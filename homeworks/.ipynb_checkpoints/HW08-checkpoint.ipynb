{
 "cells": [
  {
   "cell_type": "markdown",
   "metadata": {},
   "source": [
    "# HW08 - Instrumental Variables (due November 23rd)\n",
    "\n",
    "In this homework you will practice with running IV regressions with python. You will investigate once more the effect of schooling on earnings, but this time the instrument for education you will use is college proximity to individuals houses (reference paper by [Card, 1993](https://davidcard.berkeley.edu/papers/geo_var_schooling.pdf)).\n",
    "\n",
    "More in detail, there are two instruments that can be exploited in this context. Both are binary variables taking value 1 if either a 2-years or 4-years college is present in the area where the individual lives."
   ]
  },
  {
   "cell_type": "code",
   "execution_count": 1,
   "metadata": {},
   "outputs": [
    {
     "data": {
      "text/plain": [
       "{'id': '',\n",
       " 'nearc2': '=1 if near 2 yr college, 1966',\n",
       " 'nearc4': '=1 if near 4 yr college, 1966',\n",
       " 'educ': 'years of schooling, 1976',\n",
       " 'age': 'in years',\n",
       " 'fatheduc': \"father's schooling\",\n",
       " 'motheduc': \"mother's schooling\",\n",
       " 'weight': 'NLS sampling weight, 1976',\n",
       " 'momdad14': '=1 if live with mom, dad at 14',\n",
       " 'sinmom14': '=1 if with single mom at 14',\n",
       " 'step14': '=1 if with step parent at 14',\n",
       " 'reg661': 'regional dummy, 1966',\n",
       " 'reg662': '',\n",
       " 'reg663': '',\n",
       " 'reg664': '',\n",
       " 'reg665': '',\n",
       " 'reg666': '',\n",
       " 'reg667': '',\n",
       " 'reg668': '',\n",
       " 'reg669': '',\n",
       " 'south66': '=1 if in south in 1966',\n",
       " 'black': '=1 if black',\n",
       " 'smsa': '=1 in in SMSA, 1976',\n",
       " 'south': '=1 if in south, 1976',\n",
       " 'smsa66': '=1 if in SMSA, 1966',\n",
       " 'wage': 'hourly wage in cents, 1976',\n",
       " 'enroll': '=1 if enrolled in school, 1976',\n",
       " 'kww': 'knowledge world of work score',\n",
       " 'iq': 'IQ score',\n",
       " 'married': '=1 if married, 1976',\n",
       " 'libcrd14': '=1 if lib. card in home at 14',\n",
       " 'exper': 'age - educ - 6',\n",
       " 'lwage': 'log(wage)',\n",
       " 'expersq': 'exper^2'}"
      ]
     },
     "execution_count": 1,
     "metadata": {},
     "output_type": "execute_result"
    }
   ],
   "source": [
    "import pandas as pd \n",
    "import matplotlib.pyplot as plt\n",
    "import seaborn as sns\n",
    "import statsmodels.formula.api as smf\n",
    "import statsmodels.api as sm\n",
    "\n",
    "from linearmodels.iv import IV2SLS\n",
    "from statsmodels.iolib.summary2 import summary_col\n",
    "import warnings\n",
    "warnings.filterwarnings('ignore', category=FutureWarning)\n",
    "warnings.filterwarnings('ignore', category=DeprecationWarning)\n",
    "warnings.filterwarnings = lambda *a, **kw: None\n",
    "\n",
    "df = pd.read_stata('http://www.stata.com/data/jwooldridge/eacsap/card.dta')\n",
    "pd.read_stata('http://www.stata.com/data/jwooldridge/eacsap/card.dta', iterator=True).variable_labels()"
   ]
  },
  {
   "cell_type": "code",
   "execution_count": 2,
   "metadata": {},
   "outputs": [
    {
     "data": {
      "text/html": [
       "<div>\n",
       "<style scoped>\n",
       "    .dataframe tbody tr th:only-of-type {\n",
       "        vertical-align: middle;\n",
       "    }\n",
       "\n",
       "    .dataframe tbody tr th {\n",
       "        vertical-align: top;\n",
       "    }\n",
       "\n",
       "    .dataframe thead th {\n",
       "        text-align: right;\n",
       "    }\n",
       "</style>\n",
       "<table border=\"1\" class=\"dataframe\">\n",
       "  <thead>\n",
       "    <tr style=\"text-align: right;\">\n",
       "      <th></th>\n",
       "      <th>id</th>\n",
       "      <th>nearc2</th>\n",
       "      <th>nearc4</th>\n",
       "      <th>educ</th>\n",
       "      <th>age</th>\n",
       "      <th>fatheduc</th>\n",
       "      <th>motheduc</th>\n",
       "      <th>weight</th>\n",
       "      <th>momdad14</th>\n",
       "      <th>sinmom14</th>\n",
       "      <th>...</th>\n",
       "      <th>smsa66</th>\n",
       "      <th>wage</th>\n",
       "      <th>enroll</th>\n",
       "      <th>kww</th>\n",
       "      <th>iq</th>\n",
       "      <th>married</th>\n",
       "      <th>libcrd14</th>\n",
       "      <th>exper</th>\n",
       "      <th>lwage</th>\n",
       "      <th>expersq</th>\n",
       "    </tr>\n",
       "  </thead>\n",
       "  <tbody>\n",
       "    <tr>\n",
       "      <th>0</th>\n",
       "      <td>2</td>\n",
       "      <td>0</td>\n",
       "      <td>0</td>\n",
       "      <td>7</td>\n",
       "      <td>29</td>\n",
       "      <td>NaN</td>\n",
       "      <td>NaN</td>\n",
       "      <td>158413.0</td>\n",
       "      <td>1</td>\n",
       "      <td>0</td>\n",
       "      <td>...</td>\n",
       "      <td>1</td>\n",
       "      <td>548</td>\n",
       "      <td>0</td>\n",
       "      <td>15.0</td>\n",
       "      <td>NaN</td>\n",
       "      <td>1.0</td>\n",
       "      <td>0.0</td>\n",
       "      <td>16</td>\n",
       "      <td>6.306275</td>\n",
       "      <td>256</td>\n",
       "    </tr>\n",
       "    <tr>\n",
       "      <th>1</th>\n",
       "      <td>3</td>\n",
       "      <td>0</td>\n",
       "      <td>0</td>\n",
       "      <td>12</td>\n",
       "      <td>27</td>\n",
       "      <td>8.0</td>\n",
       "      <td>8.0</td>\n",
       "      <td>380166.0</td>\n",
       "      <td>1</td>\n",
       "      <td>0</td>\n",
       "      <td>...</td>\n",
       "      <td>1</td>\n",
       "      <td>481</td>\n",
       "      <td>0</td>\n",
       "      <td>35.0</td>\n",
       "      <td>93.0</td>\n",
       "      <td>1.0</td>\n",
       "      <td>1.0</td>\n",
       "      <td>9</td>\n",
       "      <td>6.175867</td>\n",
       "      <td>81</td>\n",
       "    </tr>\n",
       "    <tr>\n",
       "      <th>2</th>\n",
       "      <td>4</td>\n",
       "      <td>0</td>\n",
       "      <td>0</td>\n",
       "      <td>12</td>\n",
       "      <td>34</td>\n",
       "      <td>14.0</td>\n",
       "      <td>12.0</td>\n",
       "      <td>367470.0</td>\n",
       "      <td>1</td>\n",
       "      <td>0</td>\n",
       "      <td>...</td>\n",
       "      <td>1</td>\n",
       "      <td>721</td>\n",
       "      <td>0</td>\n",
       "      <td>42.0</td>\n",
       "      <td>103.0</td>\n",
       "      <td>1.0</td>\n",
       "      <td>1.0</td>\n",
       "      <td>16</td>\n",
       "      <td>6.580639</td>\n",
       "      <td>256</td>\n",
       "    </tr>\n",
       "    <tr>\n",
       "      <th>3</th>\n",
       "      <td>5</td>\n",
       "      <td>1</td>\n",
       "      <td>1</td>\n",
       "      <td>11</td>\n",
       "      <td>27</td>\n",
       "      <td>11.0</td>\n",
       "      <td>12.0</td>\n",
       "      <td>380166.0</td>\n",
       "      <td>1</td>\n",
       "      <td>0</td>\n",
       "      <td>...</td>\n",
       "      <td>1</td>\n",
       "      <td>250</td>\n",
       "      <td>0</td>\n",
       "      <td>25.0</td>\n",
       "      <td>88.0</td>\n",
       "      <td>1.0</td>\n",
       "      <td>1.0</td>\n",
       "      <td>10</td>\n",
       "      <td>5.521461</td>\n",
       "      <td>100</td>\n",
       "    </tr>\n",
       "    <tr>\n",
       "      <th>4</th>\n",
       "      <td>6</td>\n",
       "      <td>1</td>\n",
       "      <td>1</td>\n",
       "      <td>12</td>\n",
       "      <td>34</td>\n",
       "      <td>8.0</td>\n",
       "      <td>7.0</td>\n",
       "      <td>367470.0</td>\n",
       "      <td>1</td>\n",
       "      <td>0</td>\n",
       "      <td>...</td>\n",
       "      <td>1</td>\n",
       "      <td>729</td>\n",
       "      <td>0</td>\n",
       "      <td>34.0</td>\n",
       "      <td>108.0</td>\n",
       "      <td>1.0</td>\n",
       "      <td>0.0</td>\n",
       "      <td>16</td>\n",
       "      <td>6.591674</td>\n",
       "      <td>256</td>\n",
       "    </tr>\n",
       "  </tbody>\n",
       "</table>\n",
       "<p>5 rows × 34 columns</p>\n",
       "</div>"
      ],
      "text/plain": [
       "   id  nearc2  nearc4  educ  age  fatheduc  motheduc    weight  momdad14  \\\n",
       "0   2       0       0     7   29       NaN       NaN  158413.0         1   \n",
       "1   3       0       0    12   27       8.0       8.0  380166.0         1   \n",
       "2   4       0       0    12   34      14.0      12.0  367470.0         1   \n",
       "3   5       1       1    11   27      11.0      12.0  380166.0         1   \n",
       "4   6       1       1    12   34       8.0       7.0  367470.0         1   \n",
       "\n",
       "   sinmom14  ...  smsa66  wage  enroll   kww     iq  married  libcrd14  exper  \\\n",
       "0         0  ...       1   548       0  15.0    NaN      1.0       0.0     16   \n",
       "1         0  ...       1   481       0  35.0   93.0      1.0       1.0      9   \n",
       "2         0  ...       1   721       0  42.0  103.0      1.0       1.0     16   \n",
       "3         0  ...       1   250       0  25.0   88.0      1.0       1.0     10   \n",
       "4         0  ...       1   729       0  34.0  108.0      1.0       0.0     16   \n",
       "\n",
       "      lwage  expersq  \n",
       "0  6.306275      256  \n",
       "1  6.175867       81  \n",
       "2  6.580639      256  \n",
       "3  5.521461      100  \n",
       "4  6.591674      256  \n",
       "\n",
       "[5 rows x 34 columns]"
      ]
     },
     "execution_count": 2,
     "metadata": {},
     "output_type": "execute_result"
    }
   ],
   "source": [
    "df.head()"
   ]
  },
  {
   "cell_type": "markdown",
   "metadata": {},
   "source": [
    "### OLS"
   ]
  },
  {
   "cell_type": "code",
   "execution_count": 5,
   "metadata": {},
   "outputs": [
    {
     "data": {
      "image/png": "[encoded data removed]",
      "text/plain": [
       "<Figure size 432x288 with 1 Axes>"
      ]
     },
     "metadata": {},
     "output_type": "display_data"
    }
   ],
   "source": [
    "##plot log wages against education\n",
    "sns.set_theme()\n",
    "plot = sns.scatterplot(data=df, y='educ', x='lwage')"
   ]
  },
  {
   "cell_type": "code",
   "execution_count": 6,
   "metadata": {},
   "outputs": [
    {
     "data": {
      "text/html": [
       "<table class=\"simpletable\">\n",
       "<caption>OLS Regression Results</caption>\n",
       "<tr>\n",
       "  <th>Dep. Variable:</th>          <td>lwage</td>      <th>  R-squared:         </th> <td>   0.058</td>\n",
       "</tr>\n",
       "<tr>\n",
       "  <th>Model:</th>                   <td>OLS</td>       <th>  Adj. R-squared:    </th> <td>   0.056</td>\n",
       "</tr>\n",
       "<tr>\n",
       "  <th>Method:</th>             <td>Least Squares</td>  <th>  F-statistic:       </th> <td>   33.10</td>\n",
       "</tr>\n",
       "<tr>\n",
       "  <th>Date:</th>             <td>Sun, 21 Nov 2021</td> <th>  Prob (F-statistic):</th> <td>9.21e-21</td>\n",
       "</tr>\n",
       "<tr>\n",
       "  <th>Time:</th>                 <td>21:44:24</td>     <th>  Log-Likelihood:    </th> <td> -838.92</td>\n",
       "</tr>\n",
       "<tr>\n",
       "  <th>No. Observations:</th>      <td>  1619</td>      <th>  AIC:               </th> <td>   1686.</td>\n",
       "</tr>\n",
       "<tr>\n",
       "  <th>Df Residuals:</th>          <td>  1615</td>      <th>  BIC:               </th> <td>   1707.</td>\n",
       "</tr>\n",
       "<tr>\n",
       "  <th>Df Model:</th>              <td>     3</td>      <th>                     </th>     <td> </td>   \n",
       "</tr>\n",
       "<tr>\n",
       "  <th>Covariance Type:</th>      <td>nonrobust</td>    <th>                     </th>     <td> </td>   \n",
       "</tr>\n",
       "</table>\n",
       "<table class=\"simpletable\">\n",
       "<tr>\n",
       "      <td></td>         <th>coef</th>     <th>std err</th>      <th>t</th>      <th>P>|t|</th>  <th>[0.025</th>    <th>0.975]</th>  \n",
       "</tr>\n",
       "<tr>\n",
       "  <th>Intercept</th> <td>    5.7660</td> <td>    0.083</td> <td>   69.655</td> <td> 0.000</td> <td>    5.604</td> <td>    5.928</td>\n",
       "</tr>\n",
       "<tr>\n",
       "  <th>educ</th>      <td>    0.0296</td> <td>    0.005</td> <td>    5.724</td> <td> 0.000</td> <td>    0.019</td> <td>    0.040</td>\n",
       "</tr>\n",
       "<tr>\n",
       "  <th>black</th>     <td>   -0.1454</td> <td>    0.036</td> <td>   -4.007</td> <td> 0.000</td> <td>   -0.217</td> <td>   -0.074</td>\n",
       "</tr>\n",
       "<tr>\n",
       "  <th>iq</th>        <td>    0.0017</td> <td>    0.001</td> <td>    2.000</td> <td> 0.046</td> <td> 3.25e-05</td> <td>    0.003</td>\n",
       "</tr>\n",
       "</table>\n",
       "<table class=\"simpletable\">\n",
       "<tr>\n",
       "  <th>Omnibus:</th>       <td>27.859</td> <th>  Durbin-Watson:     </th> <td>   1.855</td>\n",
       "</tr>\n",
       "<tr>\n",
       "  <th>Prob(Omnibus):</th> <td> 0.000</td> <th>  Jarque-Bera (JB):  </th> <td>  31.789</td>\n",
       "</tr>\n",
       "<tr>\n",
       "  <th>Skew:</th>          <td>-0.263</td> <th>  Prob(JB):          </th> <td>1.25e-07</td>\n",
       "</tr>\n",
       "<tr>\n",
       "  <th>Kurtosis:</th>      <td> 3.441</td> <th>  Cond. No.          </th> <td>    879.</td>\n",
       "</tr>\n",
       "</table><br/><br/>Notes:<br/>[1] Standard Errors assume that the covariance matrix of the errors is correctly specified."
      ],
      "text/plain": [
       "<class 'statsmodels.iolib.summary.Summary'>\n",
       "\"\"\"\n",
       "                            OLS Regression Results                            \n",
       "==============================================================================\n",
       "Dep. Variable:                  lwage   R-squared:                       0.058\n",
       "Model:                            OLS   Adj. R-squared:                  0.056\n",
       "Method:                 Least Squares   F-statistic:                     33.10\n",
       "Date:                Sun, 21 Nov 2021   Prob (F-statistic):           9.21e-21\n",
       "Time:                        21:44:24   Log-Likelihood:                -838.92\n",
       "No. Observations:                1619   AIC:                             1686.\n",
       "Df Residuals:                    1615   BIC:                             1707.\n",
       "Df Model:                           3                                         \n",
       "Covariance Type:            nonrobust                                         \n",
       "==============================================================================\n",
       "                 coef    std err          t      P>|t|      [0.025      0.975]\n",
       "------------------------------------------------------------------------------\n",
       "Intercept      5.7660      0.083     69.655      0.000       5.604       5.928\n",
       "educ           0.0296      0.005      5.724      0.000       0.019       0.040\n",
       "black         -0.1454      0.036     -4.007      0.000      -0.217      -0.074\n",
       "iq             0.0017      0.001      2.000      0.046    3.25e-05       0.003\n",
       "==============================================================================\n",
       "Omnibus:                       27.859   Durbin-Watson:                   1.855\n",
       "Prob(Omnibus):                  0.000   Jarque-Bera (JB):               31.789\n",
       "Skew:                          -0.263   Prob(JB):                     1.25e-07\n",
       "Kurtosis:                       3.441   Cond. No.                         879.\n",
       "==============================================================================\n",
       "\n",
       "Notes:\n",
       "[1] Standard Errors assume that the covariance matrix of the errors is correctly specified.\n",
       "\"\"\""
      ]
     },
     "execution_count": 6,
     "metadata": {},
     "output_type": "execute_result"
    }
   ],
   "source": [
    "##Regress log wages (lwage) against education and include controls, use robust standard errors.\n",
    "\n",
    "covariates = ['fatheduc', 'motheduc','black','iq']\n",
    "df = df.dropna(subset=['lwage', 'educ']+covariates)\n",
    "\n",
    "ols = smf.ols('lwage ~ educ + black + iq', data=df).fit()\n",
    "ols.summary()"
   ]
  },
  {
   "cell_type": "markdown",
   "metadata": {},
   "source": [
    "**What are other possible confunders?**"
   ]
  },
  {
   "cell_type": "markdown",
   "metadata": {},
   "source": [
    "### 2SLS\n",
    "\n",
    "You will use only on proximity to a 4-years college ($nearc4$) as instrument. "
   ]
  },
  {
   "cell_type": "code",
   "execution_count": 6,
   "metadata": {},
   "outputs": [
    {
     "data": {
      "text/plain": [
       "<matplotlib.axes._subplots.AxesSubplot at 0x25de5ca93d0>"
      ]
     },
     "execution_count": 6,
     "metadata": {},
     "output_type": "execute_result"
    },
    {
     "data": {
      "image/png": "[encoded data removed]",
      "text/plain": [
       "<Figure size 432x288 with 1 Axes>"
      ]
     },
     "metadata": {},
     "output_type": "display_data"
    }
   ],
   "source": [
    "##plot log wages against nearc4\n",
    "sns.lineplot(data=df, y='lwage', x='nearc4')"
   ]
  },
  {
   "cell_type": "code",
   "execution_count": 7,
   "metadata": {},
   "outputs": [
    {
     "data": {
      "text/plain": [
       "<matplotlib.axes._subplots.AxesSubplot at 0x25de5d26910>"
      ]
     },
     "execution_count": 7,
     "metadata": {},
     "output_type": "execute_result"
    },
    {
     "data": {
      "image/png": "[encoded data removed]",
      "text/plain": [
       "<Figure size 432x288 with 1 Axes>"
      ]
     },
     "metadata": {},
     "output_type": "display_data"
    }
   ],
   "source": [
    "##plot education against nearc4\n",
    "sns.lineplot(data=df, y='educ', x='nearc4')"
   ]
  },
  {
   "cell_type": "markdown",
   "metadata": {},
   "source": [
    "**If you run an IV regression of log wages on education, using college proximity as an instrument for education, what would you expect the sign of the coefficient on education to be? Why?**"
   ]
  },
  {
   "cell_type": "code",
   "execution_count": 11,
   "metadata": {},
   "outputs": [
    {
     "data": {
      "text/html": [
       "<table class=\"simpletable\">\n",
       "<caption>OLS Regression Results</caption>\n",
       "<tr>\n",
       "  <th>Dep. Variable:</th>          <td>educ</td>       <th>  R-squared:         </th> <td>   0.259</td> \n",
       "</tr>\n",
       "<tr>\n",
       "  <th>Model:</th>                   <td>OLS</td>       <th>  Adj. R-squared:    </th> <td>   0.258</td> \n",
       "</tr>\n",
       "<tr>\n",
       "  <th>Method:</th>             <td>Least Squares</td>  <th>  F-statistic:       </th> <td>   194.8</td> \n",
       "</tr>\n",
       "<tr>\n",
       "  <th>Date:</th>             <td>Sun, 21 Nov 2021</td> <th>  Prob (F-statistic):</th> <td>7.83e-108</td>\n",
       "</tr>\n",
       "<tr>\n",
       "  <th>Time:</th>                 <td>21:57:30</td>     <th>  Log-Likelihood:    </th> <td> -3377.8</td> \n",
       "</tr>\n",
       "<tr>\n",
       "  <th>No. Observations:</th>      <td>  1619</td>      <th>  AIC:               </th> <td>   6764.</td> \n",
       "</tr>\n",
       "<tr>\n",
       "  <th>Df Residuals:</th>          <td>  1615</td>      <th>  BIC:               </th> <td>   6785.</td> \n",
       "</tr>\n",
       "<tr>\n",
       "  <th>Df Model:</th>              <td>     3</td>      <th>                     </th>     <td> </td>    \n",
       "</tr>\n",
       "<tr>\n",
       "  <th>Covariance Type:</th>         <td>HC1</td>       <th>                     </th>     <td> </td>    \n",
       "</tr>\n",
       "</table>\n",
       "<table class=\"simpletable\">\n",
       "<tr>\n",
       "      <td></td>         <th>coef</th>     <th>std err</th>      <th>z</th>      <th>P>|z|</th>  <th>[0.025</th>    <th>0.975]</th>  \n",
       "</tr>\n",
       "<tr>\n",
       "  <th>Intercept</th> <td>    5.6265</td> <td>    0.365</td> <td>   15.433</td> <td> 0.000</td> <td>    4.912</td> <td>    6.341</td>\n",
       "</tr>\n",
       "<tr>\n",
       "  <th>nearc4</th>    <td>    0.3128</td> <td>    0.110</td> <td>    2.857</td> <td> 0.004</td> <td>    0.098</td> <td>    0.527</td>\n",
       "</tr>\n",
       "<tr>\n",
       "  <th>iq</th>        <td>    0.0791</td> <td>    0.003</td> <td>   23.465</td> <td> 0.000</td> <td>    0.072</td> <td>    0.086</td>\n",
       "</tr>\n",
       "<tr>\n",
       "  <th>black</th>     <td>    0.5937</td> <td>    0.183</td> <td>    3.239</td> <td> 0.001</td> <td>    0.234</td> <td>    0.953</td>\n",
       "</tr>\n",
       "</table>\n",
       "<table class=\"simpletable\">\n",
       "<tr>\n",
       "  <th>Omnibus:</th>       <td>44.274</td> <th>  Durbin-Watson:     </th> <td>   1.791</td>\n",
       "</tr>\n",
       "<tr>\n",
       "  <th>Prob(Omnibus):</th> <td> 0.000</td> <th>  Jarque-Bera (JB):  </th> <td>  30.033</td>\n",
       "</tr>\n",
       "<tr>\n",
       "  <th>Skew:</th>          <td> 0.214</td> <th>  Prob(JB):          </th> <td>3.01e-07</td>\n",
       "</tr>\n",
       "<tr>\n",
       "  <th>Kurtosis:</th>      <td> 2.489</td> <th>  Cond. No.          </th> <td>    825.</td>\n",
       "</tr>\n",
       "</table><br/><br/>Notes:<br/>[1] Standard Errors are heteroscedasticity robust (HC1)"
      ],
      "text/plain": [
       "<class 'statsmodels.iolib.summary.Summary'>\n",
       "\"\"\"\n",
       "                            OLS Regression Results                            \n",
       "==============================================================================\n",
       "Dep. Variable:                   educ   R-squared:                       0.259\n",
       "Model:                            OLS   Adj. R-squared:                  0.258\n",
       "Method:                 Least Squares   F-statistic:                     194.8\n",
       "Date:                Sun, 21 Nov 2021   Prob (F-statistic):          7.83e-108\n",
       "Time:                        21:57:30   Log-Likelihood:                -3377.8\n",
       "No. Observations:                1619   AIC:                             6764.\n",
       "Df Residuals:                    1615   BIC:                             6785.\n",
       "Df Model:                           3                                         \n",
       "Covariance Type:                  HC1                                         \n",
       "==============================================================================\n",
       "                 coef    std err          z      P>|z|      [0.025      0.975]\n",
       "------------------------------------------------------------------------------\n",
       "Intercept      5.6265      0.365     15.433      0.000       4.912       6.341\n",
       "nearc4         0.3128      0.110      2.857      0.004       0.098       0.527\n",
       "iq             0.0791      0.003     23.465      0.000       0.072       0.086\n",
       "black          0.5937      0.183      3.239      0.001       0.234       0.953\n",
       "==============================================================================\n",
       "Omnibus:                       44.274   Durbin-Watson:                   1.791\n",
       "Prob(Omnibus):                  0.000   Jarque-Bera (JB):               30.033\n",
       "Skew:                           0.214   Prob(JB):                     3.01e-07\n",
       "Kurtosis:                       2.489   Cond. No.                         825.\n",
       "==============================================================================\n",
       "\n",
       "Notes:\n",
       "[1] Standard Errors are heteroscedasticity robust (HC1)\n",
       "\"\"\""
      ]
     },
     "execution_count": 11,
     "metadata": {},
     "output_type": "execute_result"
    }
   ],
   "source": [
    "##run a regression of education on nearc4, adding the controls you selected before and using robust standard errors\n",
    "fs = smf.ols('educ ~ nearc4 + iq + black', data=df).fit(cov_type=\"HC1\")\n",
    "fs.summary()"
   ]
  },
  {
   "cell_type": "code",
   "execution_count": 12,
   "metadata": {},
   "outputs": [
    {
     "name": "stdout",
     "output_type": "stream",
     "text": [
      "1       12.980053\n",
      "2       13.770753\n",
      "3       12.897543\n",
      "4       14.478945\n",
      "5       12.660333\n",
      "          ...    \n",
      "2980    12.387667\n",
      "2993    13.533543\n",
      "2994    13.928894\n",
      "2997    13.016788\n",
      "3000    14.004524\n",
      "Name: educhat, Length: 1619, dtype: float64\n"
     ]
    }
   ],
   "source": [
    "##predict education from the previous regression\n",
    "df['educhat'] = fs.predict(df)\n",
    "print(df['educhat'])"
   ]
  },
  {
   "cell_type": "code",
   "execution_count": 13,
   "metadata": {},
   "outputs": [
    {
     "data": {
      "text/html": [
       "<table class=\"simpletable\">\n",
       "<caption>OLS Regression Results</caption>\n",
       "<tr>\n",
       "  <th>Dep. Variable:</th>          <td>lwage</td>      <th>  R-squared:         </th> <td>   0.030</td>\n",
       "</tr>\n",
       "<tr>\n",
       "  <th>Model:</th>                   <td>OLS</td>       <th>  Adj. R-squared:    </th> <td>   0.029</td>\n",
       "</tr>\n",
       "<tr>\n",
       "  <th>Method:</th>             <td>Least Squares</td>  <th>  F-statistic:       </th> <td>   39.52</td>\n",
       "</tr>\n",
       "<tr>\n",
       "  <th>Date:</th>             <td>Sun, 21 Nov 2021</td> <th>  Prob (F-statistic):</th> <td>4.17e-10</td>\n",
       "</tr>\n",
       "<tr>\n",
       "  <th>Time:</th>                 <td>21:57:34</td>     <th>  Log-Likelihood:    </th> <td> -862.97</td>\n",
       "</tr>\n",
       "<tr>\n",
       "  <th>No. Observations:</th>      <td>  1619</td>      <th>  AIC:               </th> <td>   1730.</td>\n",
       "</tr>\n",
       "<tr>\n",
       "  <th>Df Residuals:</th>          <td>  1617</td>      <th>  BIC:               </th> <td>   1741.</td>\n",
       "</tr>\n",
       "<tr>\n",
       "  <th>Df Model:</th>              <td>     1</td>      <th>                     </th>     <td> </td>   \n",
       "</tr>\n",
       "<tr>\n",
       "  <th>Covariance Type:</th>         <td>HC1</td>       <th>                     </th>     <td> </td>   \n",
       "</tr>\n",
       "</table>\n",
       "<table class=\"simpletable\">\n",
       "<tr>\n",
       "      <td></td>         <th>coef</th>     <th>std err</th>      <th>z</th>      <th>P>|z|</th>  <th>[0.025</th>    <th>0.975]</th>  \n",
       "</tr>\n",
       "<tr>\n",
       "  <th>Intercept</th> <td>    5.4616</td> <td>    0.140</td> <td>   38.913</td> <td> 0.000</td> <td>    5.187</td> <td>    5.737</td>\n",
       "</tr>\n",
       "<tr>\n",
       "  <th>educhat</th>   <td>    0.0624</td> <td>    0.010</td> <td>    6.286</td> <td> 0.000</td> <td>    0.043</td> <td>    0.082</td>\n",
       "</tr>\n",
       "</table>\n",
       "<table class=\"simpletable\">\n",
       "<tr>\n",
       "  <th>Omnibus:</th>       <td>24.426</td> <th>  Durbin-Watson:     </th> <td>   1.849</td>\n",
       "</tr>\n",
       "<tr>\n",
       "  <th>Prob(Omnibus):</th> <td> 0.000</td> <th>  Jarque-Bera (JB):  </th> <td>  29.858</td>\n",
       "</tr>\n",
       "<tr>\n",
       "  <th>Skew:</th>          <td>-0.216</td> <th>  Prob(JB):          </th> <td>3.28e-07</td>\n",
       "</tr>\n",
       "<tr>\n",
       "  <th>Kurtosis:</th>      <td> 3.505</td> <th>  Cond. No.          </th> <td>    175.</td>\n",
       "</tr>\n",
       "</table><br/><br/>Notes:<br/>[1] Standard Errors are heteroscedasticity robust (HC1)"
      ],
      "text/plain": [
       "<class 'statsmodels.iolib.summary.Summary'>\n",
       "\"\"\"\n",
       "                            OLS Regression Results                            \n",
       "==============================================================================\n",
       "Dep. Variable:                  lwage   R-squared:                       0.030\n",
       "Model:                            OLS   Adj. R-squared:                  0.029\n",
       "Method:                 Least Squares   F-statistic:                     39.52\n",
       "Date:                Sun, 21 Nov 2021   Prob (F-statistic):           4.17e-10\n",
       "Time:                        21:57:34   Log-Likelihood:                -862.97\n",
       "No. Observations:                1619   AIC:                             1730.\n",
       "Df Residuals:                    1617   BIC:                             1741.\n",
       "Df Model:                           1                                         \n",
       "Covariance Type:                  HC1                                         \n",
       "==============================================================================\n",
       "                 coef    std err          z      P>|z|      [0.025      0.975]\n",
       "------------------------------------------------------------------------------\n",
       "Intercept      5.4616      0.140     38.913      0.000       5.187       5.737\n",
       "educhat        0.0624      0.010      6.286      0.000       0.043       0.082\n",
       "==============================================================================\n",
       "Omnibus:                       24.426   Durbin-Watson:                   1.849\n",
       "Prob(Omnibus):                  0.000   Jarque-Bera (JB):               29.858\n",
       "Skew:                          -0.216   Prob(JB):                     3.28e-07\n",
       "Kurtosis:                       3.505   Cond. No.                         175.\n",
       "==============================================================================\n",
       "\n",
       "Notes:\n",
       "[1] Standard Errors are heteroscedasticity robust (HC1)\n",
       "\"\"\""
      ]
     },
     "execution_count": 13,
     "metadata": {},
     "output_type": "execute_result"
    }
   ],
   "source": [
    "##run a regression of log wages on education and controls using robust standard errors\n",
    "twosls = smf.ols('lwage ~ educhat', data=df).fit(cov_type='HC1')\n",
    "twosls.summary()"
   ]
  },
  {
   "cell_type": "code",
   "execution_count": 14,
   "metadata": {},
   "outputs": [
    {
     "name": "stdout",
     "output_type": "stream",
     "text": [
      "\n",
      "===============================\n",
      "               lwage I lwage II\n",
      "-------------------------------\n",
      "educ           0.030           \n",
      "               (0.005)         \n",
      "educhat                0.062   \n",
      "                       (0.010) \n",
      "Intercept      5.766   5.462   \n",
      "               (0.083) (0.140) \n",
      "black          -0.145          \n",
      "               (0.036)         \n",
      "iq             0.002           \n",
      "               (0.001)         \n",
      "R-squared      0.058   0.030   \n",
      "R-squared Adj. 0.056   0.029   \n",
      "N              1619    1619    \n",
      "===============================\n",
      "Standard errors in parentheses.\n"
     ]
    }
   ],
   "source": [
    "##compare the 2sls and ols estimates \n",
    "print(summary_col([ols, twosls], float_format='%0.3f',  info_dict={'N':lambda x: \"{0:d}\".format(int(x.nobs))}, regressor_order=['educ', 'educhat']))"
   ]
  },
  {
   "cell_type": "markdown",
   "metadata": {},
   "source": [
    "**What do you think the difference in the estimates is due to?**"
   ]
  },
  {
   "cell_type": "markdown",
   "metadata": {},
   "source": [
    "### IV analysis"
   ]
  },
  {
   "cell_type": "code",
   "execution_count": 22,
   "metadata": {},
   "outputs": [],
   "source": [
    "##use IV2sls to run the regression of log wages on education. using college proximity as an instrument for education\n",
    "##add the same controls as \n",
    "\n",
    "exog = sm.add_constant(df[covariates])\n",
    "iv2sls = IV2SLS(df['nearc4'],exog,df['lwage'],df['educhat']).fit()"
   ]
  },
  {
   "cell_type": "code",
   "execution_count": 23,
   "metadata": {},
   "outputs": [
    {
     "name": "stdout",
     "output_type": "stream",
     "text": [
      "                          IV-2SLS Estimation Summary                          \n",
      "==============================================================================\n",
      "Dep. Variable:                 nearc4   R-squared:                     -146.08\n",
      "Estimator:                    IV-2SLS   Adj. R-squared:                -146.53\n",
      "No. Observations:                1619   F-statistic:                    11.855\n",
      "Date:                Sun, Nov 21 2021   P-value (F-stat)                0.0368\n",
      "Time:                        22:00:30   Distribution:                  chi2(5)\n",
      "Cov. Estimator:                robust                                         \n",
      "                                                                              \n",
      "                             Parameter Estimates                              \n",
      "==============================================================================\n",
      "            Parameter  Std. Err.     T-stat    P-value    Lower CI    Upper CI\n",
      "------------------------------------------------------------------------------\n",
      "const         -79.027     23.278    -3.3949     0.0007     -124.65     -33.402\n",
      "fatheduc       0.0080     0.0536     0.1485     0.8820     -0.0970      0.1129\n",
      "motheduc      -0.1279     0.0724    -1.7669     0.0772     -0.2699      0.0140\n",
      "black          1.6541     0.6662     2.4829     0.0130      0.3484      2.9598\n",
      "iq            -0.0462     0.0178    -2.5911     0.0096     -0.0811     -0.0112\n",
      "lwage          13.510     3.9540     3.4167     0.0006      5.7601      21.260\n",
      "==============================================================================\n",
      "\n",
      "Endogenous: lwage\n",
      "Instruments: educhat\n",
      "Robust Covariance (Heteroskedastic)\n",
      "Debiased: False\n"
     ]
    }
   ],
   "source": [
    "print(iv2sls)"
   ]
  }
 ],
 "metadata": {
  "kernelspec": {
   "display_name": "Python 3",
   "language": "python",
   "name": "python3"
  },
  "language_info": {
   "codemirror_mode": {
    "name": "ipython",
    "version": 3
   },
   "file_extension": ".py",
   "mimetype": "text/x-python",
   "name": "python",
   "nbconvert_exporter": "python",
   "pygments_lexer": "ipython3",
   "version": "3.8.10"
  }
 },
 "nbformat": 4,
 "nbformat_minor": 4
}
