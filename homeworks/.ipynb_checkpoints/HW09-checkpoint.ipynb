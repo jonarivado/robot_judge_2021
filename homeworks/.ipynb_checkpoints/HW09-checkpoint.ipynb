{
 "cells": [
  {
   "cell_type": "markdown",
   "metadata": {},
   "source": [
    "# HW09 - Encoders and Explanations (due November 30th)\n",
    "\n",
    "In this homework you will practice with dimensionality reduction and model explanation. You will use text data from headlines from the AG news agency. In particular, the information you have are the title of the article, the lead and a label categorizing the news. **Note that this is just a sample dataset, therefore, it is completely normal if the plots and results you get do not make much sense.**\n",
    "\n",
    "The goal of this homework is to predict the label of the article from the title and the lead. One of the main problems when working with text data is that of dimensionality since text contains a high number of features. Therefore, after encoding the data, you will experiment with different dimensionality reduction methods.  "
   ]
  },
  {
   "cell_type": "markdown",
   "metadata": {},
   "source": [
    "### Raw data"
   ]
  },
  {
   "cell_type": "code",
   "execution_count": 1,
   "metadata": {},
   "outputs": [
    {
     "data": {
      "text/html": [
       "<div>\n",
       "<style scoped>\n",
       "    .dataframe tbody tr th:only-of-type {\n",
       "        vertical-align: middle;\n",
       "    }\n",
       "\n",
       "    .dataframe tbody tr th {\n",
       "        vertical-align: top;\n",
       "    }\n",
       "\n",
       "    .dataframe thead th {\n",
       "        text-align: right;\n",
       "    }\n",
       "</style>\n",
       "<table border=\"1\" class=\"dataframe\">\n",
       "  <thead>\n",
       "    <tr style=\"text-align: right;\">\n",
       "      <th></th>\n",
       "      <th>label</th>\n",
       "      <th>title</th>\n",
       "      <th>lead</th>\n",
       "      <th>text</th>\n",
       "    </tr>\n",
       "  </thead>\n",
       "  <tbody>\n",
       "    <tr>\n",
       "      <th>0</th>\n",
       "      <td>business</td>\n",
       "      <td>Carlyle Looks Toward Commercial Aerospace (Reu...</td>\n",
       "      <td>Reuters - Private investment firm Carlyle Grou...</td>\n",
       "      <td>Carlyle Looks Toward Commercial Aerospace (Reu...</td>\n",
       "    </tr>\n",
       "    <tr>\n",
       "      <th>1</th>\n",
       "      <td>business</td>\n",
       "      <td>Oil and Economy Cloud Stocks' Outlook (Reuters)</td>\n",
       "      <td>Reuters - Soaring crude prices plus worries\\ab...</td>\n",
       "      <td>Oil and Economy Cloud Stocks' Outlook (Reuters...</td>\n",
       "    </tr>\n",
       "    <tr>\n",
       "      <th>2</th>\n",
       "      <td>business</td>\n",
       "      <td>Iraq Halts Oil Exports from Main Southern Pipe...</td>\n",
       "      <td>Reuters - Authorities have halted oil export\\f...</td>\n",
       "      <td>Iraq Halts Oil Exports from Main Southern Pipe...</td>\n",
       "    </tr>\n",
       "    <tr>\n",
       "      <th>3</th>\n",
       "      <td>business</td>\n",
       "      <td>Oil prices soar to all-time record, posing new...</td>\n",
       "      <td>AFP - Tearaway world oil prices, toppling reco...</td>\n",
       "      <td>Oil prices soar to all-time record, posing new...</td>\n",
       "    </tr>\n",
       "    <tr>\n",
       "      <th>4</th>\n",
       "      <td>business</td>\n",
       "      <td>Stocks End Up, But Near Year Lows (Reuters)</td>\n",
       "      <td>Reuters - Stocks ended slightly higher on Frid...</td>\n",
       "      <td>Stocks End Up, But Near Year Lows (Reuters) Re...</td>\n",
       "    </tr>\n",
       "  </tbody>\n",
       "</table>\n",
       "</div>"
      ],
      "text/plain": [
       "      label                                              title  \\\n",
       "0  business  Carlyle Looks Toward Commercial Aerospace (Reu...   \n",
       "1  business    Oil and Economy Cloud Stocks' Outlook (Reuters)   \n",
       "2  business  Iraq Halts Oil Exports from Main Southern Pipe...   \n",
       "3  business  Oil prices soar to all-time record, posing new...   \n",
       "4  business        Stocks End Up, But Near Year Lows (Reuters)   \n",
       "\n",
       "                                                lead  \\\n",
       "0  Reuters - Private investment firm Carlyle Grou...   \n",
       "1  Reuters - Soaring crude prices plus worries\\ab...   \n",
       "2  Reuters - Authorities have halted oil export\\f...   \n",
       "3  AFP - Tearaway world oil prices, toppling reco...   \n",
       "4  Reuters - Stocks ended slightly higher on Frid...   \n",
       "\n",
       "                                                text  \n",
       "0  Carlyle Looks Toward Commercial Aerospace (Reu...  \n",
       "1  Oil and Economy Cloud Stocks' Outlook (Reuters...  \n",
       "2  Iraq Halts Oil Exports from Main Southern Pipe...  \n",
       "3  Oil prices soar to all-time record, posing new...  \n",
       "4  Stocks End Up, But Near Year Lows (Reuters) Re...  "
      ]
     },
     "execution_count": 1,
     "metadata": {},
     "output_type": "execute_result"
    }
   ],
   "source": [
    "import pandas as pd\n",
    "import pandas as pd \n",
    "import matplotlib.pyplot as plt\n",
    "import seaborn as sns\n",
    "sns.set_theme()\n",
    "import warnings\n",
    "warnings.filterwarnings('ignore', category=FutureWarning)\n",
    "warnings.filterwarnings('ignore', category=DeprecationWarning)\n",
    "warnings.filterwarnings = lambda *a, **kw: None\n",
    "\n",
    "df = pd.read_csv('data/train.csv')\n",
    "\n",
    "df.columns = [\"label\", \"title\", \"lead\"]\n",
    "label_map = {1:\"world\", 2:\"sport\", 3:\"business\", 4:\"sci/tech\"}\n",
    "def replace_label(x):\n",
    "    return label_map[x]\n",
    "df[\"label\"] = df[\"label\"].apply(replace_label) \n",
    "df[\"text\"] = df[\"title\"] + \" \" + df[\"lead\"]\n",
    "df.head()"
   ]
  },
  {
   "cell_type": "markdown",
   "metadata": {},
   "source": [
    "### Pre-processed and vectorized data"
   ]
  },
  {
   "cell_type": "markdown",
   "metadata": {},
   "source": [
    "The first thing to do when using text data is to *clean* them for instance, by setting everything to lower case, deleting stopwords (e.g., the, a, as, etc.) and digits. Then, this cleaned text must be encoded and transformed into numerical features. However, since this is beyond the scope of this course you just need to load the vectorized data (check our Spring Course on *Sequencing Legal DNA* if interested in this). \n",
    "\n"
   ]
  },
  {
   "cell_type": "code",
   "execution_count": 2,
   "metadata": {},
   "outputs": [
    {
     "data": {
      "text/plain": [
       "'\\nimport spacy\\n#dfs = df.sample(500)\\nnlp = spacy.load(\\'en_core_web_sm\\')\\nfrom sklearn.feature_extraction.text import CountVectorizer\\n\\n##TODO pre-process text as you did in HW02\\nimport spacy\\nnlp = spacy.load(\\'en_core_web_sm\\')\\ndef tokenize(x):\\n    return [w.lemma_.lower() for w in nlp(x) if not w.is_stop and not w.is_punct and not w.is_digit]\\ndf[\"tokens\"] = df[\"text\"].apply(lambda x: tokenize(x))\\ndf[\"preprocessed\"] = df[\\'tokens\\'].apply(lambda x: \\' \\'.join(x))\\n##TODO vectorize the pre-processed text using CountVectorizer\\nfrom sklearn.feature_extraction.text import CountVectorizer\\nvec = CountVectorizer(min_df=0.01, # at min 1% of docs\\n                        max_df=.9,  \\n                        max_features=1000,\\n                        stop_words=\\'english\\',\\n                        ngram_range=(1,3))\\nX = vec.fit_transform(df[\\'preprocessed\\']).toarray()\\n\\nwords = vec.get_feature_names()\\nfor i, word in enumerate(words):\\n    column = X[:,i]\\n    df[\\'x_\\'+word] = column\\ndf = df.drop([\\'x_000\\', \\'x_39\\'], axis=1)\\ndf.to_csv(\\'data/news_featurized.csv\\')\\n'"
      ]
     },
     "execution_count": 2,
     "metadata": {},
     "output_type": "execute_result"
    }
   ],
   "source": [
    "##Just as reference here is the code to go from the raw data to the preprocessed and vectorized data\n",
    "'''\n",
    "import spacy\n",
    "#dfs = df.sample(500)\n",
    "nlp = spacy.load('en_core_web_sm')\n",
    "from sklearn.feature_extraction.text import CountVectorizer\n",
    "\n",
    "##TODO pre-process text as you did in HW02\n",
    "import spacy\n",
    "nlp = spacy.load('en_core_web_sm')\n",
    "def tokenize(x):\n",
    "    return [w.lemma_.lower() for w in nlp(x) if not w.is_stop and not w.is_punct and not w.is_digit]\n",
    "df[\"tokens\"] = df[\"text\"].apply(lambda x: tokenize(x))\n",
    "df[\"preprocessed\"] = df['tokens'].apply(lambda x: ' '.join(x))\n",
    "##TODO vectorize the pre-processed text using CountVectorizer\n",
    "from sklearn.feature_extraction.text import CountVectorizer\n",
    "vec = CountVectorizer(min_df=0.01, # at min 1% of docs\n",
    "                        max_df=.9,  \n",
    "                        max_features=1000,\n",
    "                        stop_words='english',\n",
    "                        ngram_range=(1,3))\n",
    "X = vec.fit_transform(df['preprocessed']).toarray()\n",
    "\n",
    "words = vec.get_feature_names()\n",
    "for i, word in enumerate(words):\n",
    "    column = X[:,i]\n",
    "    df['x_'+word] = column\n",
    "df = df.drop(['x_000', 'x_39'], axis=1)\n",
    "df.to_csv('data/news_featurized.csv')\n",
    "'''"
   ]
  },
  {
   "cell_type": "markdown",
   "metadata": {},
   "source": [
    "As you can see below we now have 412 additional columns, each corresponding to one word. Each word-column takes value 1 if the word appears in the pre-processed snippet and 0 otherwise. The goal now is to predict the label of each news from these features."
   ]
  },
  {
   "cell_type": "code",
   "execution_count": 3,
   "metadata": {},
   "outputs": [
    {
     "data": {
      "text/html": [
       "<div>\n",
       "<style scoped>\n",
       "    .dataframe tbody tr th:only-of-type {\n",
       "        vertical-align: middle;\n",
       "    }\n",
       "\n",
       "    .dataframe tbody tr th {\n",
       "        vertical-align: top;\n",
       "    }\n",
       "\n",
       "    .dataframe thead th {\n",
       "        text-align: right;\n",
       "    }\n",
       "</style>\n",
       "<table border=\"1\" class=\"dataframe\">\n",
       "  <thead>\n",
       "    <tr style=\"text-align: right;\">\n",
       "      <th></th>\n",
       "      <th>label</th>\n",
       "      <th>x_accord</th>\n",
       "      <th>x_add</th>\n",
       "      <th>x_agency</th>\n",
       "      <th>x_ago</th>\n",
       "      <th>x_agree</th>\n",
       "      <th>x_agreement</th>\n",
       "      <th>x_ahead</th>\n",
       "      <th>x_aim</th>\n",
       "      <th>x_air</th>\n",
       "      <th>...</th>\n",
       "      <th>x_world</th>\n",
       "      <th>x_world 39</th>\n",
       "      <th>x_www investor</th>\n",
       "      <th>x_www investor reuters</th>\n",
       "      <th>x_year</th>\n",
       "      <th>x_year old</th>\n",
       "      <th>x_yesterday</th>\n",
       "      <th>x_york</th>\n",
       "      <th>x_york reuters</th>\n",
       "      <th>label_enc</th>\n",
       "    </tr>\n",
       "  </thead>\n",
       "  <tbody>\n",
       "    <tr>\n",
       "      <th>0</th>\n",
       "      <td>business</td>\n",
       "      <td>0</td>\n",
       "      <td>0</td>\n",
       "      <td>0</td>\n",
       "      <td>0</td>\n",
       "      <td>0</td>\n",
       "      <td>0</td>\n",
       "      <td>0</td>\n",
       "      <td>0</td>\n",
       "      <td>0</td>\n",
       "      <td>...</td>\n",
       "      <td>0</td>\n",
       "      <td>0</td>\n",
       "      <td>0</td>\n",
       "      <td>0</td>\n",
       "      <td>0</td>\n",
       "      <td>0</td>\n",
       "      <td>0</td>\n",
       "      <td>0</td>\n",
       "      <td>0</td>\n",
       "      <td>2</td>\n",
       "    </tr>\n",
       "    <tr>\n",
       "      <th>1</th>\n",
       "      <td>business</td>\n",
       "      <td>0</td>\n",
       "      <td>0</td>\n",
       "      <td>0</td>\n",
       "      <td>0</td>\n",
       "      <td>0</td>\n",
       "      <td>0</td>\n",
       "      <td>0</td>\n",
       "      <td>0</td>\n",
       "      <td>0</td>\n",
       "      <td>...</td>\n",
       "      <td>0</td>\n",
       "      <td>0</td>\n",
       "      <td>0</td>\n",
       "      <td>0</td>\n",
       "      <td>0</td>\n",
       "      <td>0</td>\n",
       "      <td>0</td>\n",
       "      <td>0</td>\n",
       "      <td>0</td>\n",
       "      <td>2</td>\n",
       "    </tr>\n",
       "    <tr>\n",
       "      <th>2</th>\n",
       "      <td>business</td>\n",
       "      <td>0</td>\n",
       "      <td>0</td>\n",
       "      <td>0</td>\n",
       "      <td>0</td>\n",
       "      <td>0</td>\n",
       "      <td>0</td>\n",
       "      <td>0</td>\n",
       "      <td>0</td>\n",
       "      <td>0</td>\n",
       "      <td>...</td>\n",
       "      <td>0</td>\n",
       "      <td>0</td>\n",
       "      <td>0</td>\n",
       "      <td>0</td>\n",
       "      <td>0</td>\n",
       "      <td>0</td>\n",
       "      <td>0</td>\n",
       "      <td>0</td>\n",
       "      <td>0</td>\n",
       "      <td>2</td>\n",
       "    </tr>\n",
       "    <tr>\n",
       "      <th>3</th>\n",
       "      <td>business</td>\n",
       "      <td>0</td>\n",
       "      <td>0</td>\n",
       "      <td>0</td>\n",
       "      <td>0</td>\n",
       "      <td>0</td>\n",
       "      <td>0</td>\n",
       "      <td>0</td>\n",
       "      <td>0</td>\n",
       "      <td>0</td>\n",
       "      <td>...</td>\n",
       "      <td>1</td>\n",
       "      <td>0</td>\n",
       "      <td>0</td>\n",
       "      <td>0</td>\n",
       "      <td>0</td>\n",
       "      <td>0</td>\n",
       "      <td>0</td>\n",
       "      <td>0</td>\n",
       "      <td>0</td>\n",
       "      <td>2</td>\n",
       "    </tr>\n",
       "    <tr>\n",
       "      <th>4</th>\n",
       "      <td>business</td>\n",
       "      <td>0</td>\n",
       "      <td>0</td>\n",
       "      <td>0</td>\n",
       "      <td>0</td>\n",
       "      <td>0</td>\n",
       "      <td>0</td>\n",
       "      <td>0</td>\n",
       "      <td>0</td>\n",
       "      <td>0</td>\n",
       "      <td>...</td>\n",
       "      <td>0</td>\n",
       "      <td>0</td>\n",
       "      <td>0</td>\n",
       "      <td>0</td>\n",
       "      <td>2</td>\n",
       "      <td>0</td>\n",
       "      <td>0</td>\n",
       "      <td>0</td>\n",
       "      <td>0</td>\n",
       "      <td>2</td>\n",
       "    </tr>\n",
       "  </tbody>\n",
       "</table>\n",
       "<p>5 rows × 409 columns</p>\n",
       "</div>"
      ],
      "text/plain": [
       "      label  x_accord  x_add  x_agency  x_ago  x_agree  x_agreement  x_ahead  \\\n",
       "0  business         0      0         0      0        0            0        0   \n",
       "1  business         0      0         0      0        0            0        0   \n",
       "2  business         0      0         0      0        0            0        0   \n",
       "3  business         0      0         0      0        0            0        0   \n",
       "4  business         0      0         0      0        0            0        0   \n",
       "\n",
       "   x_aim  x_air  ...  x_world  x_world 39  x_www investor  \\\n",
       "0      0      0  ...        0           0               0   \n",
       "1      0      0  ...        0           0               0   \n",
       "2      0      0  ...        0           0               0   \n",
       "3      0      0  ...        1           0               0   \n",
       "4      0      0  ...        0           0               0   \n",
       "\n",
       "   x_www investor reuters  x_year  x_year old  x_yesterday  x_york  \\\n",
       "0                       0       0           0            0       0   \n",
       "1                       0       0           0            0       0   \n",
       "2                       0       0           0            0       0   \n",
       "3                       0       0           0            0       0   \n",
       "4                       0       2           0            0       0   \n",
       "\n",
       "   x_york reuters  label_enc  \n",
       "0               0          2  \n",
       "1               0          2  \n",
       "2               0          2  \n",
       "3               0          2  \n",
       "4               0          2  \n",
       "\n",
       "[5 rows x 409 columns]"
      ]
     },
     "execution_count": 3,
     "metadata": {},
     "output_type": "execute_result"
    }
   ],
   "source": [
    "df = pd.read_csv('data/news_featurized.csv')\n",
    "del df['Unnamed: 0']\n",
    "label_map = {\"world\": 0, \"sport\": 1, \"business\":  2, \"sci/tech\": 3}\n",
    "df[\"label_enc\"] = df[\"label\"].apply(replace_label)\n",
    "df.head()"
   ]
  },
  {
   "cell_type": "code",
   "execution_count": 4,
   "metadata": {},
   "outputs": [],
   "source": [
    "features = [i for i in df.columns if i not in ['label', 'title', 'label_enc', 'lead', 'preprocessed']]\n",
    "X = df[features]\n",
    "y = df['label_enc']"
   ]
  },
  {
   "cell_type": "code",
   "execution_count": 5,
   "metadata": {},
   "outputs": [
    {
     "data": {
      "text/html": [
       "<div>\n",
       "<style scoped>\n",
       "    .dataframe tbody tr th:only-of-type {\n",
       "        vertical-align: middle;\n",
       "    }\n",
       "\n",
       "    .dataframe tbody tr th {\n",
       "        vertical-align: top;\n",
       "    }\n",
       "\n",
       "    .dataframe thead th {\n",
       "        text-align: right;\n",
       "    }\n",
       "</style>\n",
       "<table border=\"1\" class=\"dataframe\">\n",
       "  <thead>\n",
       "    <tr style=\"text-align: right;\">\n",
       "      <th></th>\n",
       "      <th>x_accord</th>\n",
       "      <th>x_add</th>\n",
       "      <th>x_agency</th>\n",
       "      <th>x_ago</th>\n",
       "      <th>x_agree</th>\n",
       "      <th>x_agreement</th>\n",
       "      <th>x_ahead</th>\n",
       "      <th>x_aim</th>\n",
       "      <th>x_air</th>\n",
       "      <th>x_al</th>\n",
       "      <th>...</th>\n",
       "      <th>x_worker</th>\n",
       "      <th>x_world</th>\n",
       "      <th>x_world 39</th>\n",
       "      <th>x_www investor</th>\n",
       "      <th>x_www investor reuters</th>\n",
       "      <th>x_year</th>\n",
       "      <th>x_year old</th>\n",
       "      <th>x_yesterday</th>\n",
       "      <th>x_york</th>\n",
       "      <th>x_york reuters</th>\n",
       "    </tr>\n",
       "  </thead>\n",
       "  <tbody>\n",
       "    <tr>\n",
       "      <th>0</th>\n",
       "      <td>0</td>\n",
       "      <td>0</td>\n",
       "      <td>0</td>\n",
       "      <td>0</td>\n",
       "      <td>0</td>\n",
       "      <td>0</td>\n",
       "      <td>0</td>\n",
       "      <td>0</td>\n",
       "      <td>0</td>\n",
       "      <td>0</td>\n",
       "      <td>...</td>\n",
       "      <td>0</td>\n",
       "      <td>0</td>\n",
       "      <td>0</td>\n",
       "      <td>0</td>\n",
       "      <td>0</td>\n",
       "      <td>0</td>\n",
       "      <td>0</td>\n",
       "      <td>0</td>\n",
       "      <td>0</td>\n",
       "      <td>0</td>\n",
       "    </tr>\n",
       "    <tr>\n",
       "      <th>1</th>\n",
       "      <td>0</td>\n",
       "      <td>0</td>\n",
       "      <td>0</td>\n",
       "      <td>0</td>\n",
       "      <td>0</td>\n",
       "      <td>0</td>\n",
       "      <td>0</td>\n",
       "      <td>0</td>\n",
       "      <td>0</td>\n",
       "      <td>0</td>\n",
       "      <td>...</td>\n",
       "      <td>0</td>\n",
       "      <td>0</td>\n",
       "      <td>0</td>\n",
       "      <td>0</td>\n",
       "      <td>0</td>\n",
       "      <td>0</td>\n",
       "      <td>0</td>\n",
       "      <td>0</td>\n",
       "      <td>0</td>\n",
       "      <td>0</td>\n",
       "    </tr>\n",
       "    <tr>\n",
       "      <th>2</th>\n",
       "      <td>0</td>\n",
       "      <td>0</td>\n",
       "      <td>0</td>\n",
       "      <td>0</td>\n",
       "      <td>0</td>\n",
       "      <td>0</td>\n",
       "      <td>0</td>\n",
       "      <td>0</td>\n",
       "      <td>0</td>\n",
       "      <td>0</td>\n",
       "      <td>...</td>\n",
       "      <td>0</td>\n",
       "      <td>0</td>\n",
       "      <td>0</td>\n",
       "      <td>0</td>\n",
       "      <td>0</td>\n",
       "      <td>0</td>\n",
       "      <td>0</td>\n",
       "      <td>0</td>\n",
       "      <td>0</td>\n",
       "      <td>0</td>\n",
       "    </tr>\n",
       "    <tr>\n",
       "      <th>3</th>\n",
       "      <td>0</td>\n",
       "      <td>0</td>\n",
       "      <td>0</td>\n",
       "      <td>0</td>\n",
       "      <td>0</td>\n",
       "      <td>0</td>\n",
       "      <td>0</td>\n",
       "      <td>0</td>\n",
       "      <td>0</td>\n",
       "      <td>0</td>\n",
       "      <td>...</td>\n",
       "      <td>0</td>\n",
       "      <td>1</td>\n",
       "      <td>0</td>\n",
       "      <td>0</td>\n",
       "      <td>0</td>\n",
       "      <td>0</td>\n",
       "      <td>0</td>\n",
       "      <td>0</td>\n",
       "      <td>0</td>\n",
       "      <td>0</td>\n",
       "    </tr>\n",
       "    <tr>\n",
       "      <th>4</th>\n",
       "      <td>0</td>\n",
       "      <td>0</td>\n",
       "      <td>0</td>\n",
       "      <td>0</td>\n",
       "      <td>0</td>\n",
       "      <td>0</td>\n",
       "      <td>0</td>\n",
       "      <td>0</td>\n",
       "      <td>0</td>\n",
       "      <td>0</td>\n",
       "      <td>...</td>\n",
       "      <td>0</td>\n",
       "      <td>0</td>\n",
       "      <td>0</td>\n",
       "      <td>0</td>\n",
       "      <td>0</td>\n",
       "      <td>2</td>\n",
       "      <td>0</td>\n",
       "      <td>0</td>\n",
       "      <td>0</td>\n",
       "      <td>0</td>\n",
       "    </tr>\n",
       "  </tbody>\n",
       "</table>\n",
       "<p>5 rows × 407 columns</p>\n",
       "</div>"
      ],
      "text/plain": [
       "   x_accord  x_add  x_agency  x_ago  x_agree  x_agreement  x_ahead  x_aim  \\\n",
       "0         0      0         0      0        0            0        0      0   \n",
       "1         0      0         0      0        0            0        0      0   \n",
       "2         0      0         0      0        0            0        0      0   \n",
       "3         0      0         0      0        0            0        0      0   \n",
       "4         0      0         0      0        0            0        0      0   \n",
       "\n",
       "   x_air  x_al  ...  x_worker  x_world  x_world 39  x_www investor  \\\n",
       "0      0     0  ...         0        0           0               0   \n",
       "1      0     0  ...         0        0           0               0   \n",
       "2      0     0  ...         0        0           0               0   \n",
       "3      0     0  ...         0        1           0               0   \n",
       "4      0     0  ...         0        0           0               0   \n",
       "\n",
       "   x_www investor reuters  x_year  x_year old  x_yesterday  x_york  \\\n",
       "0                       0       0           0            0       0   \n",
       "1                       0       0           0            0       0   \n",
       "2                       0       0           0            0       0   \n",
       "3                       0       0           0            0       0   \n",
       "4                       0       2           0            0       0   \n",
       "\n",
       "   x_york reuters  \n",
       "0               0  \n",
       "1               0  \n",
       "2               0  \n",
       "3               0  \n",
       "4               0  \n",
       "\n",
       "[5 rows x 407 columns]"
      ]
     },
     "execution_count": 5,
     "metadata": {},
     "output_type": "execute_result"
    }
   ],
   "source": [
    "X.head()"
   ]
  },
  {
   "cell_type": "markdown",
   "metadata": {},
   "source": [
    "## Data Visualization\n",
    "\n",
    "Another common problem when working with text data is trying to get a sense of the structure of the data. In this context unsupervise methods can help.\n",
    "\n",
    "**Why do you think this is the case?**"
   ]
  },
  {
   "cell_type": "markdown",
   "metadata": {},
   "source": [
    "#### !!Complete either the t-SNE OR the k-Means exercise"
   ]
  },
  {
   "cell_type": "markdown",
   "metadata": {},
   "source": [
    "### t-SNE"
   ]
  },
  {
   "cell_type": "code",
   "execution_count": 8,
   "metadata": {},
   "outputs": [],
   "source": [
    "from sklearn.manifold import TSNE\n",
    "import seaborn as sns\n",
    "import matplotlib.pyplot as plt\n",
    "\n",
    "##TODO use tsne to create clusters of observations on a sample of 20000 news\n",
    "##TODO plot the results\n",
    "\n",
    "tsne = TSNE(n_components=2)\n",
    "\n"
   ]
  },
  {
   "cell_type": "code",
   "execution_count": null,
   "metadata": {},
   "outputs": [],
   "source": [
    "Xtsne = tsne.fit_transform(X)\n"
   ]
  },
  {
   "cell_type": "code",
   "execution_count": null,
   "metadata": {},
   "outputs": [],
   "source": [
    "plot = sns.scatterplot(x=Xtsne[:,0],y=Xtsne[:,1])"
   ]
  },
  {
   "cell_type": "markdown",
   "metadata": {},
   "source": [
    "### k-Means"
   ]
  },
  {
   "cell_type": "code",
   "execution_count": null,
   "metadata": {},
   "outputs": [],
   "source": [
    "from sklearn.cluster import KMeans\n",
    "## TODO now create 20 clusters usin kmeans clustering on the whole sample\n",
    "## print the clusters for the first 10 observations\n",
    "num_clusters = 20\n",
    "km = KMeans(n_clusters=num_clusters)\n",
    "km.fit(X)\n",
    "df['clusters'] = km.predict(X)\n",
    "\n",
    "print(df.clusters[:10])"
   ]
  },
  {
   "cell_type": "code",
   "execution_count": null,
   "metadata": {},
   "outputs": [],
   "source": [
    "##TODO plot the clusters \n",
    "#This doesn't seem possible without dimensionality reduction, which requires t-SNE."
   ]
  },
  {
   "cell_type": "markdown",
   "metadata": {},
   "source": [
    "## Dimensionality Reduction"
   ]
  },
  {
   "cell_type": "markdown",
   "metadata": {},
   "source": [
    "To provide some motivation for why we do dimensionality reduction, you can first try to run the following cell to train XGBoost with the whole set of fetures (I suggest you try but kill the code after 1 minute max)"
   ]
  },
  {
   "cell_type": "code",
   "execution_count": null,
   "metadata": {},
   "outputs": [],
   "source": [
    "from xgboost import XGBClassifier\n",
    "from sklearn.model_selection import train_test_split\n",
    "from sklearn.metrics import accuracy_score\n",
    "\n",
    "xgb = XGBClassifier()\n",
    "\n",
    "Xtrain, Xtest, ytrain, ytest = train_test_split(X, y, test_size=0.2)\n",
    "xgb.fit(Xtrain, ytrain)\n",
    "print(\"Accuracy Score on Test Set: \", accuracy_score(Xtest, ytest))"
   ]
  },
  {
   "cell_type": "markdown",
   "metadata": {},
   "source": [
    "### Feature Selection"
   ]
  },
  {
   "cell_type": "code",
   "execution_count": 9,
   "metadata": {},
   "outputs": [],
   "source": [
    "from sklearn.feature_selection import SelectKBest, chi2\n",
    "chiF = chi2(X,y)\n",
    "chi_results = pd.DataFrame(chiF)\n",
    "##use the chi2 feature selection from sklearn to select 100 features"
   ]
  },
  {
   "cell_type": "code",
   "execution_count": 17,
   "metadata": {},
   "outputs": [
    {
     "data": {
      "text/html": [
       "<div>\n",
       "<style scoped>\n",
       "    .dataframe tbody tr th:only-of-type {\n",
       "        vertical-align: middle;\n",
       "    }\n",
       "\n",
       "    .dataframe tbody tr th {\n",
       "        vertical-align: top;\n",
       "    }\n",
       "\n",
       "    .dataframe thead th {\n",
       "        text-align: right;\n",
       "    }\n",
       "</style>\n",
       "<table border=\"1\" class=\"dataframe\">\n",
       "  <thead>\n",
       "    <tr style=\"text-align: right;\">\n",
       "      <th></th>\n",
       "      <th>x_accord</th>\n",
       "      <th>x_add</th>\n",
       "      <th>x_agency</th>\n",
       "      <th>x_ago</th>\n",
       "      <th>x_agree</th>\n",
       "      <th>x_agreement</th>\n",
       "      <th>x_ahead</th>\n",
       "      <th>x_aim</th>\n",
       "      <th>x_air</th>\n",
       "      <th>x_al</th>\n",
       "      <th>...</th>\n",
       "      <th>x_worker</th>\n",
       "      <th>x_world</th>\n",
       "      <th>x_world 39</th>\n",
       "      <th>x_www investor</th>\n",
       "      <th>x_www investor reuters</th>\n",
       "      <th>x_year</th>\n",
       "      <th>x_year old</th>\n",
       "      <th>x_yesterday</th>\n",
       "      <th>x_york</th>\n",
       "      <th>x_york reuters</th>\n",
       "    </tr>\n",
       "  </thead>\n",
       "  <tbody>\n",
       "    <tr>\n",
       "      <th>0</th>\n",
       "      <td>4.938496e+02</td>\n",
       "      <td>4.271249e+02</td>\n",
       "      <td>5.750213e+02</td>\n",
       "      <td>18.880878</td>\n",
       "      <td>9.185883e+02</td>\n",
       "      <td>2.315414e+02</td>\n",
       "      <td>2.186702e+02</td>\n",
       "      <td>4.684831e+02</td>\n",
       "      <td>7.354439e+02</td>\n",
       "      <td>3493.498549</td>\n",
       "      <td>...</td>\n",
       "      <td>1.020479e+03</td>\n",
       "      <td>6.170059e+02</td>\n",
       "      <td>8.794780e+02</td>\n",
       "      <td>5439.181306</td>\n",
       "      <td>5439.181306</td>\n",
       "      <td>4.507552e+02</td>\n",
       "      <td>2.448903e+02</td>\n",
       "      <td>7.711174e+02</td>\n",
       "      <td>3420.709008</td>\n",
       "      <td>4124.200445</td>\n",
       "    </tr>\n",
       "    <tr>\n",
       "      <th>1</th>\n",
       "      <td>1.026932e-106</td>\n",
       "      <td>2.945978e-92</td>\n",
       "      <td>2.619686e-124</td>\n",
       "      <td>0.000289</td>\n",
       "      <td>8.223451e-199</td>\n",
       "      <td>6.420003e-50</td>\n",
       "      <td>3.891988e-47</td>\n",
       "      <td>3.223953e-101</td>\n",
       "      <td>4.327042e-159</td>\n",
       "      <td>0.000000</td>\n",
       "      <td>...</td>\n",
       "      <td>6.494041e-221</td>\n",
       "      <td>2.073290e-133</td>\n",
       "      <td>2.502264e-190</td>\n",
       "      <td>0.000000</td>\n",
       "      <td>0.000000</td>\n",
       "      <td>2.236811e-97</td>\n",
       "      <td>8.335686e-53</td>\n",
       "      <td>7.944109e-167</td>\n",
       "      <td>0.000000</td>\n",
       "      <td>0.000000</td>\n",
       "    </tr>\n",
       "  </tbody>\n",
       "</table>\n",
       "<p>2 rows × 407 columns</p>\n",
       "</div>"
      ],
      "text/plain": [
       "        x_accord         x_add       x_agency      x_ago        x_agree  \\\n",
       "0   4.938496e+02  4.271249e+02   5.750213e+02  18.880878   9.185883e+02   \n",
       "1  1.026932e-106  2.945978e-92  2.619686e-124   0.000289  8.223451e-199   \n",
       "\n",
       "    x_agreement       x_ahead          x_aim          x_air         x_al  ...  \\\n",
       "0  2.315414e+02  2.186702e+02   4.684831e+02   7.354439e+02  3493.498549  ...   \n",
       "1  6.420003e-50  3.891988e-47  3.223953e-101  4.327042e-159     0.000000  ...   \n",
       "\n",
       "        x_worker        x_world     x_world 39  x_www investor  \\\n",
       "0   1.020479e+03   6.170059e+02   8.794780e+02     5439.181306   \n",
       "1  6.494041e-221  2.073290e-133  2.502264e-190        0.000000   \n",
       "\n",
       "   x_www investor reuters        x_year    x_year old    x_yesterday  \\\n",
       "0             5439.181306  4.507552e+02  2.448903e+02   7.711174e+02   \n",
       "1                0.000000  2.236811e-97  8.335686e-53  7.944109e-167   \n",
       "\n",
       "        x_york  x_york reuters  \n",
       "0  3420.709008     4124.200445  \n",
       "1     0.000000        0.000000  \n",
       "\n",
       "[2 rows x 407 columns]"
      ]
     },
     "metadata": {},
     "output_type": "display_data"
    }
   ],
   "source": [
    "chi_results = chi_results.rename(columns={i: name for i, name in enumerate(X.columns)})\n",
    "display(chi_results)"
   ]
  },
  {
   "cell_type": "code",
   "execution_count": 33,
   "metadata": {},
   "outputs": [],
   "source": [
    "important_features = chi_results.sort_values(by=1,axis=1,ascending=True).iloc[:,:100]\n",
    "chosen_ones = important_features.columns"
   ]
  },
  {
   "cell_type": "code",
   "execution_count": 35,
   "metadata": {},
   "outputs": [
    {
     "name": "stderr",
     "output_type": "stream",
     "text": [
      "C:\\Users\\jonat\\AppData\\Local\\Packages\\PythonSoftwareFoundation.Python.3.8_qbz5n2kfra8p0\\LocalCache\\local-packages\\Python38\\site-packages\\xgboost\\sklearn.py:1224: UserWarning: The use of label encoder in XGBClassifier is deprecated and will be removed in a future release. To remove this warning, do the following: 1) Pass option use_label_encoder=False when constructing XGBClassifier object; and 2) Encode your labels (y) as integers starting with 0, i.e. 0, 1, 2, ..., [num_class - 1].\n",
      "  warnings.warn(label_encoder_deprecation_msg, UserWarning)\n"
     ]
    },
    {
     "name": "stdout",
     "output_type": "stream",
     "text": [
      "[19:45:39] WARNING: C:/Users/Administrator/workspace/xgboost-win64_release_1.5.0/src/learner.cc:1115: Starting in XGBoost 1.3.0, the default evaluation metric used with the objective 'multi:softprob' was changed from 'merror' to 'mlogloss'. Explicitly set eval_metric if you'd like to restore the old behavior.\n",
      "Accuracy Score on Test Set:  0.6931666666666667\n"
     ]
    }
   ],
   "source": [
    "from xgboost import XGBClassifier\n",
    "from sklearn.model_selection import train_test_split\n",
    "from sklearn.metrics import accuracy_score\n",
    "\n",
    "xgb_fs = XGBClassifier(objective='multi:softmax')\n",
    "\n",
    "##TODO train an xgboost model on the selected features to predict the labels\n",
    "##TODO print the accuracy score on the test set\n",
    "Xtrain, Xtest, ytrain, ytest = train_test_split(X[chosen_ones], y, test_size=0.2)\n",
    "xgb_fs.fit(Xtrain, ytrain)\n",
    "\n",
    "print(\"Accuracy Score on Test Set: \", accuracy_score(xgb_fs.predict(Xtest), ytest))\n"
   ]
  },
  {
   "cell_type": "markdown",
   "metadata": {},
   "source": [
    "### PCA"
   ]
  },
  {
   "cell_type": "code",
   "execution_count": 44,
   "metadata": {
    "collapsed": true
   },
   "outputs": [
    {
     "name": "stdout",
     "output_type": "stream",
     "text": [
      "[9.27412441e-02 3.87537033e-02 2.30838939e-02 1.95452144e-02\n",
      " 1.81319400e-02 1.56002193e-02 1.38123188e-02 1.24334756e-02\n",
      " 1.11212328e-02 1.04722728e-02 9.22626862e-03 7.87205097e-03\n",
      " 7.44446352e-03 7.19491097e-03 6.72355692e-03 6.66643777e-03\n",
      " 6.33729071e-03 6.17401586e-03 5.87075674e-03 5.78045335e-03\n",
      " 5.67946167e-03 5.44246166e-03 5.33789504e-03 5.27843120e-03\n",
      " 5.08033846e-03 5.00696926e-03 4.93166249e-03 4.89404686e-03\n",
      " 4.81639915e-03 4.80002345e-03 4.73745682e-03 4.67854722e-03\n",
      " 4.58701072e-03 4.54715461e-03 4.53139531e-03 4.49528514e-03\n",
      " 4.43017928e-03 4.33953170e-03 4.27955340e-03 4.21543871e-03\n",
      " 4.20240278e-03 4.17974387e-03 4.13305218e-03 4.02460183e-03\n",
      " 3.98951603e-03 3.88782172e-03 3.85810453e-03 3.80215364e-03\n",
      " 3.75399817e-03 3.72698749e-03 3.68197310e-03 3.67696544e-03\n",
      " 3.60174601e-03 3.59292661e-03 3.53691164e-03 3.51496573e-03\n",
      " 3.50568123e-03 3.44168076e-03 3.43263107e-03 3.40256924e-03\n",
      " 3.38413442e-03 3.35385386e-03 3.33877844e-03 3.31825064e-03\n",
      " 3.27919754e-03 3.25100030e-03 3.23307026e-03 3.21146487e-03\n",
      " 3.19465077e-03 3.14497647e-03 3.14145277e-03 3.11485710e-03\n",
      " 3.10763555e-03 3.08776696e-03 3.04134868e-03 3.03464737e-03\n",
      " 3.01651553e-03 3.00093038e-03 2.94782050e-03 2.94605912e-03\n",
      " 2.92160101e-03 2.89723543e-03 2.88419029e-03 2.86952812e-03\n",
      " 2.82307815e-03 2.80176319e-03 2.79765289e-03 2.76382197e-03\n",
      " 2.76190215e-03 2.72623109e-03 2.71886832e-03 2.70223691e-03\n",
      " 2.66393457e-03 2.66077811e-03 2.65317555e-03 2.63791660e-03\n",
      " 2.60952177e-03 2.59414622e-03 2.58133058e-03 2.57001085e-03\n",
      " 2.56703360e-03 2.54517659e-03 2.53161068e-03 2.50245793e-03\n",
      " 2.49072227e-03 2.47655629e-03 2.46279639e-03 2.45942491e-03\n",
      " 2.44493354e-03 2.43462331e-03 2.40926008e-03 2.39994349e-03\n",
      " 2.37552076e-03 2.36678244e-03 2.34702608e-03 2.33709756e-03\n",
      " 2.31681693e-03 2.31163466e-03 2.29578941e-03 2.28393914e-03\n",
      " 2.27356292e-03 2.25764883e-03 2.24449526e-03 2.24154816e-03\n",
      " 2.22758400e-03 2.21753109e-03 2.19793907e-03 2.18757402e-03\n",
      " 2.17813860e-03 2.15501925e-03 2.14898380e-03 2.14229491e-03\n",
      " 2.13313832e-03 2.11799258e-03 2.10585332e-03 2.09894033e-03\n",
      " 2.09003508e-03 2.08308734e-03 2.07052833e-03 2.06601770e-03\n",
      " 2.05297249e-03 2.04154428e-03 2.03384367e-03 2.02934652e-03\n",
      " 2.02408589e-03 2.01519184e-03 2.00980483e-03 2.00224073e-03\n",
      " 1.99576956e-03 1.98835430e-03 1.97866138e-03 1.97276788e-03\n",
      " 1.96347701e-03 1.95342545e-03 1.94612089e-03 1.93009542e-03\n",
      " 1.92881078e-03 1.90779358e-03 1.90441509e-03 1.90045563e-03\n",
      " 1.88135109e-03 1.86304214e-03 1.85986073e-03 1.84428741e-03\n",
      " 1.83268995e-03 1.83024564e-03 1.81238012e-03 1.80415521e-03\n",
      " 1.80260011e-03 1.78350950e-03 1.77352975e-03 1.76396771e-03\n",
      " 1.75111217e-03 1.74768415e-03 1.74588422e-03 1.73635472e-03\n",
      " 1.72504784e-03 1.70966126e-03 1.69122422e-03 1.68563181e-03\n",
      " 1.68022902e-03 1.67353593e-03 1.66554316e-03 1.64408914e-03\n",
      " 1.63977298e-03 1.63529537e-03 1.63042196e-03 1.61732246e-03\n",
      " 1.60853955e-03 1.59834175e-03 1.58927947e-03 1.58258565e-03\n",
      " 1.57797472e-03 1.57464665e-03 1.56688890e-03 1.55933989e-03\n",
      " 1.55656321e-03 1.55205212e-03 1.54276419e-03 1.53168239e-03\n",
      " 1.53023525e-03 1.52630343e-03 1.52470279e-03 1.51856061e-03\n",
      " 1.51229049e-03 1.50674425e-03 1.49915861e-03 1.49247960e-03\n",
      " 1.48346552e-03 1.48032604e-03 1.47601385e-03 1.46882232e-03\n",
      " 1.46293912e-03 1.45776077e-03 1.45464780e-03 1.44592571e-03\n",
      " 1.44218495e-03 1.43576349e-03 1.43480750e-03 1.42207941e-03\n",
      " 1.41940195e-03 1.41349346e-03 1.40336776e-03 1.40088464e-03\n",
      " 1.39236489e-03 1.38498904e-03 1.38125374e-03 1.37549548e-03\n",
      " 1.37190376e-03 1.36743650e-03 1.35964109e-03 1.34656935e-03\n",
      " 1.33535509e-03 1.33446932e-03 1.33036497e-03 1.31982836e-03\n",
      " 1.31808011e-03 1.31467050e-03 1.30937365e-03 1.30695732e-03\n",
      " 1.30310193e-03 1.29848849e-03 1.29274559e-03 1.29060484e-03\n",
      " 1.28881993e-03 1.28579433e-03 1.27626784e-03 1.27248862e-03\n",
      " 1.26876633e-03 1.26487903e-03 1.25695850e-03 1.25215003e-03\n",
      " 1.24741104e-03 1.24594228e-03 1.24334289e-03 1.24074244e-03\n",
      " 1.23824425e-03 1.23362418e-03 1.23055838e-03 1.22260996e-03\n",
      " 1.21666104e-03 1.21365910e-03 1.20932232e-03 1.20475562e-03\n",
      " 1.20173123e-03 1.19667140e-03 1.19238691e-03 1.18922839e-03\n",
      " 1.18665934e-03 1.18145646e-03 1.17924091e-03 1.17541108e-03\n",
      " 1.17254578e-03 1.16322920e-03 1.15758221e-03 1.15634507e-03\n",
      " 1.15145984e-03 1.14944227e-03 1.14330793e-03 1.14167499e-03\n",
      " 1.13631189e-03 1.13462004e-03 1.12796034e-03 1.12668141e-03\n",
      " 1.12117687e-03 1.11522949e-03 1.11465235e-03 1.10866803e-03\n",
      " 1.10552952e-03 1.10077143e-03 1.09685026e-03 1.09657096e-03\n",
      " 1.09141977e-03 1.08831711e-03 1.08391156e-03 1.08268124e-03\n",
      " 1.07623281e-03 1.07257718e-03 1.06707216e-03 1.06584884e-03\n",
      " 1.06546659e-03 1.06032557e-03 1.05816197e-03 1.05423255e-03\n",
      " 1.05172743e-03 1.04140976e-03 1.04002438e-03 1.03570432e-03\n",
      " 1.03022530e-03 1.02179810e-03 1.01896240e-03 1.01335936e-03\n",
      " 1.00953962e-03 1.00102589e-03 9.96549945e-04 9.95437989e-04\n",
      " 9.89903551e-04 9.85011818e-04 9.80409010e-04 9.76974919e-04\n",
      " 9.69402429e-04 9.64391204e-04 9.60468422e-04 9.55284904e-04\n",
      " 9.53981223e-04 9.50486298e-04 9.48273935e-04 9.40045703e-04\n",
      " 9.37503102e-04 9.35966669e-04 9.30040944e-04 9.28758033e-04\n",
      " 9.21997677e-04 9.18461039e-04 9.17039290e-04 9.12435617e-04\n",
      " 9.09985160e-04 9.07301375e-04 9.03568598e-04 8.96233978e-04\n",
      " 8.89172193e-04 8.82230447e-04 8.76813775e-04 8.68414879e-04\n",
      " 8.61272280e-04 8.53883090e-04 8.43862545e-04 8.33115870e-04\n",
      " 8.11145908e-04 8.00644490e-04 7.99034652e-04 7.76301186e-04\n",
      " 7.51850196e-04 7.27432332e-04 6.95923282e-04 6.94070665e-04\n",
      " 6.84493996e-04 6.71489668e-04 6.27126667e-04 6.23287588e-04\n",
      " 6.21907562e-04 6.09364777e-04 5.92885541e-04 5.01879131e-04\n",
      " 4.97238156e-04 4.82367223e-04 3.13827542e-04 3.06015174e-04\n",
      " 3.02278407e-04 2.27698294e-04 1.08703016e-04 1.06444810e-04\n",
      " 1.02042212e-04 5.80143477e-05 4.91813304e-05 3.77841128e-05\n",
      " 3.39692640e-05 2.96273522e-05 2.42253602e-05 1.54179453e-05\n",
      " 1.26916792e-05 8.46517163e-06 4.94786816e-06 3.33093472e-06\n",
      " 2.19730466e-06 8.61525588e-07 5.39609352e-07 8.95684992e-08\n",
      " 4.90716679e-30 1.75393777e-32 8.11138148e-33 5.84342816e-34\n",
      " 5.84342816e-34 5.84342816e-34 5.84342816e-34 5.84342816e-34\n",
      " 5.84342816e-34 5.84342816e-34 5.84342816e-34 5.84342816e-34\n",
      " 5.84342816e-34 5.84342816e-34 5.84342816e-34 5.84342816e-34\n",
      " 5.73256867e-34 1.48876205e-34 9.99385436e-35]\n"
     ]
    },
    {
     "data": {
      "text/plain": [
       "61"
      ]
     },
     "metadata": {},
     "output_type": "display_data"
    }
   ],
   "source": [
    "from sklearn.decomposition import PCA\n",
    "##compute the pca components that account for at least 50% of the variation the data\n",
    "pca = PCA()\n",
    "\n",
    "pca.fit(X)\n",
    "smolX = pca.transform(X)\n",
    "print(pca.explained_variance_ratio_)\n",
    "\n",
    "index = 0\n",
    "for i,v in enumerate(pca.explained_variance_ratio_):\n",
    "    index += v\n",
    "    if index > 0.5:\n",
    "        break\n",
    "display(i)"
   ]
  },
  {
   "cell_type": "code",
   "execution_count": 46,
   "metadata": {},
   "outputs": [
    {
     "data": {
      "text/plain": [
       "62"
      ]
     },
     "execution_count": 46,
     "metadata": {},
     "output_type": "execute_result"
    }
   ],
   "source": [
    "next((\n",
    "    i for i, _ in enumerate(pca.explained_variance_ratio_)\n",
    "    if sum(pca.explained_variance_ratio_[:i]) > 0.5\n",
    "))"
   ]
  },
  {
   "cell_type": "code",
   "execution_count": 54,
   "metadata": {},
   "outputs": [
    {
     "name": "stderr",
     "output_type": "stream",
     "text": [
      "C:\\Users\\jonat\\AppData\\Local\\Packages\\PythonSoftwareFoundation.Python.3.8_qbz5n2kfra8p0\\LocalCache\\local-packages\\Python38\\site-packages\\xgboost\\sklearn.py:1224: UserWarning: The use of label encoder in XGBClassifier is deprecated and will be removed in a future release. To remove this warning, do the following: 1) Pass option use_label_encoder=False when constructing XGBClassifier object; and 2) Encode your labels (y) as integers starting with 0, i.e. 0, 1, 2, ..., [num_class - 1].\n",
      "  warnings.warn(label_encoder_deprecation_msg, UserWarning)\n"
     ]
    },
    {
     "name": "stdout",
     "output_type": "stream",
     "text": [
      "[20:07:38] WARNING: C:/Users/Administrator/workspace/xgboost-win64_release_1.5.0/src/learner.cc:1115: Starting in XGBoost 1.3.0, the default evaluation metric used with the objective 'multi:softprob' was changed from 'merror' to 'mlogloss'. Explicitly set eval_metric if you'd like to restore the old behavior.\n"
     ]
    },
    {
     "data": {
      "text/plain": [
       "XGBClassifier(base_score=0.5, booster='gbtree', colsample_bylevel=1,\n",
       "              colsample_bynode=1, colsample_bytree=1, enable_categorical=False,\n",
       "              gamma=0, gpu_id=-1, importance_type=None,\n",
       "              interaction_constraints='', learning_rate=0.300000012,\n",
       "              max_delta_step=0, max_depth=6, min_child_weight=1, missing=nan,\n",
       "              monotone_constraints='()', n_estimators=100, n_jobs=8,\n",
       "              num_parallel_tree=1, objective='multi:softprob', predictor='auto',\n",
       "              random_state=0, reg_alpha=0, reg_lambda=1, scale_pos_weight=None,\n",
       "              subsample=1, tree_method='exact', validate_parameters=1,\n",
       "              verbosity=None)"
      ]
     },
     "execution_count": 54,
     "metadata": {},
     "output_type": "execute_result"
    }
   ],
   "source": [
    "xgb_pca = XGBClassifier(objective='multi:softmax')\n",
    "\n",
    "##TODO train an xgboost model on the selected features to predict the labels\n",
    "##TODO print the accuracy score on the test set\n",
    "Xtrain, Xtest, ytrain, ytest = train_test_split(smolX[:,:61], y, test_size=0.2)\n",
    "xgb_pca.fit(Xtrain, ytrain)"
   ]
  },
  {
   "cell_type": "code",
   "execution_count": 55,
   "metadata": {},
   "outputs": [
    {
     "name": "stdout",
     "output_type": "stream",
     "text": [
      "Accuracy Score on Test Set:  0.7974583333333334\n"
     ]
    }
   ],
   "source": [
    "print(\"Accuracy Score on Test Set: \", accuracy_score(xgb_pca.predict(Xtest), ytest))"
   ]
  },
  {
   "cell_type": "markdown",
   "metadata": {},
   "source": [
    "**Which method do you think works best?**"
   ]
  },
  {
   "cell_type": "markdown",
   "metadata": {},
   "source": [
    "### Model Explanation"
   ]
  },
  {
   "cell_type": "code",
   "execution_count": 64,
   "metadata": {},
   "outputs": [
    {
     "data": {
      "text/plain": [
       "<matplotlib.axes._subplots.AxesSubplot at 0x14b60f409d0>"
      ]
     },
     "execution_count": 64,
     "metadata": {},
     "output_type": "execute_result"
    },
    {
     "data": {
      "image/png": "[encoded data removed]",
      "text/plain": [
       "<Figure size 432x288 with 1 Axes>"
      ]
     },
     "metadata": {},
     "output_type": "display_data"
    },
    {
     "data": {
      "image/png": "[encoded data removed]",
      "text/plain": [
       "<Figure size 432x288 with 1 Axes>"
      ]
     },
     "metadata": {},
     "output_type": "display_data"
    }
   ],
   "source": [
    "##TODO visualize the most important features for both models\n",
    "from xgboost import plot_importance\n",
    "plot_importance(xgb_pca,max_num_features=20)\n",
    "plot_importance(xgb_fs,max_num_features=20)"
   ]
  }
 ],
 "metadata": {
  "kernelspec": {
   "display_name": "Python 3",
   "language": "python",
   "name": "python3"
  },
  "language_info": {
   "codemirror_mode": {
    "name": "ipython",
    "version": 3
   },
   "file_extension": ".py",
   "mimetype": "text/x-python",
   "name": "python",
   "nbconvert_exporter": "python",
   "pygments_lexer": "ipython3",
   "version": "3.8.10"
  }
 },
 "nbformat": 4,
 "nbformat_minor": 4
}
